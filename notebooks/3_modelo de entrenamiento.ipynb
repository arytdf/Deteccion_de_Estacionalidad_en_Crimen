{
 "cells": [
  {
   "cell_type": "code",
   "execution_count": 3,
   "id": "9920d82d-c510-4a9e-8617-6e3e564a815c",
   "metadata": {},
   "outputs": [],
   "source": [
    "import pandas as pd\n",
    "import matplotlib.pyplot as plt\n",
    "import numpy as np\n",
    "import seaborn as sns\n",
    "from sklearn.model_selection import train_test_split\n",
    "from sklearn.ensemble import RandomForestRegressor\n",
    "from sklearn.linear_model import LinearRegression\n",
    "from sklearn.svm import SVR\n",
    "from sklearn.metrics import mean_squared_error, r2_score, mean_absolute_error"
   ]
  },
  {
   "cell_type": "markdown",
   "id": "581ca194-9f7c-42b6-b327-79876b7b274f",
   "metadata": {},
   "source": [
    "### Cargar y Preprocesar los Datos"
   ]
  },
  {
   "cell_type": "code",
   "execution_count": 5,
   "id": "c6f5cfc5-0cc1-4c61-886c-2044c6163e36",
   "metadata": {},
   "outputs": [],
   "source": [
    "# Ruta del archivo corregido\n",
    "file_path = 'D://Facu/2024/2C/Aprendizaje Automatico/Trabajo final/deteccion_de_estacionalidad_en_crimen/data/external/delitos_correjido.xlsx'\n",
    "\n",
    "# Cargar el archivo Excel\n",
    "df = pd.read_excel(file_path)\n",
    "\n",
    "# Renombrar la primera columna para mayor claridad\n",
    "df.rename(columns={df.columns[0]: 'Tipo de Delito'}, inplace=True)\n",
    "\n",
    "# Filtrar los nombres actuales de las columnas que contienen datos de meses y años\n",
    "column_names = df.columns[1:]  # Ignorar la primera columna que es 'Tipo de Delito'\n",
    "mes_anio_columns = []\n",
    "\n",
    "# Definir los años y meses que vamos a utilizar\n",
    "meses = ['ene', 'feb', 'mar', 'abr', 'may', 'jun', 'jul', 'ago', 'sept', 'oct', 'nov', 'dic']\n",
    "anios = list(range(2014, 2025))\n",
    "\n",
    "# Ajustar el proceso de renombrado para evitar exceder el número de años y meses\n",
    "anio_index = 0\n",
    "for i, column in enumerate(column_names):\n",
    "    if anio_index < len(anios):\n",
    "        mes = meses[i % len(meses)]\n",
    "        anio = anios[anio_index]\n",
    "\n",
    "        mes_anio_columns.append(f\"{mes}_{anio}\")\n",
    "\n",
    "        # Incrementar el índice de año cada 12 meses\n",
    "        if mes == 'dic':\n",
    "            anio_index += 1\n",
    "    else:\n",
    "        break\n",
    "\n",
    "# Renombrar las columnas de acuerdo con los nuevos nombres generados\n",
    "df_cleaned = df.copy()\n",
    "df_cleaned.columns = ['Tipo de Delito'] + mes_anio_columns + list(df.columns[len(mes_anio_columns) + 1:])\n",
    "\n",
    "# Transformar los datos con 'melt' para obtener un formato largo, incluyendo solo las categorías principales\n",
    "categorias_principales = [\"Contra las Personas\", \"Otros Delitos Contra las Personas\", \"Contra la Propiedad\"]\n",
    "\n",
    "data_dict = {}\n",
    "for categoria in categorias_principales:\n",
    "    # Seleccionar las filas correspondientes a la categoría principal\n",
    "    df_categoria = df_cleaned[df_cleaned['Tipo de Delito'] == categoria]\n",
    "    \n",
    "    # Transformar los datos para tener una estructura adecuada con 'melt'\n",
    "    df_melted = df_categoria.melt(id_vars=['Tipo de Delito'], var_name='Mes_Año', value_name='Cantidad')\n",
    "    \n",
    "    # Limpiar los datos derretidos: eliminar filas con valores nulos en 'Cantidad'\n",
    "    df_melted = df_melted.dropna(subset=['Cantidad'])\n",
    "    \n",
    "    # Separar la columna 'Mes_Año' en 'Mes' y 'Año'\n",
    "    df_melted['Año'] = df_melted['Mes_Año'].str.extract(r'(\\d{4})$')  # Extraer el año (los últimos 4 caracteres)\n",
    "    df_melted['Mes'] = df_melted['Mes_Año'].str.extract(r'^(\\w+)_')   # Extraer el mes (antes del guion bajo)\n",
    "    df_melted['Año'] = df_melted['Año'].astype(int)\n",
    "    \n",
    "    # Convertir los nombres de los meses a números\n",
    "    meses_dict = {'ene': 1, 'feb': 2, 'mar': 3, 'abr': 4, 'may': 5, 'jun': 6,\n",
    "                  'jul': 7, 'ago': 8, 'sept': 9, 'oct': 10, 'nov': 11, 'dic': 12}\n",
    "    df_melted['Mes'] = df_melted['Mes'].map(meses_dict)\n",
    "    \n",
    "    # Crear una columna de fecha\n",
    "    df_melted['Fecha'] = pd.to_datetime(df_melted.apply(lambda row: f\"{int(row['Año'])}-{int(row['Mes']):02d}-01\", axis=1))\n",
    "    \n",
    "    # Guardar los datos en el diccionario\n",
    "    data_dict[categoria] = df_melted\n",
    "\n",
    "# Crear un DataFrame consolidado para análisis con las categorías principales\n",
    "df_analysis = pd.concat(data_dict.values(), ignore_index=True)\n",
    "\n",
    "# Asegurarse de que la columna 'Fecha' esté correctamente presente\n",
    "df_analysis['Fecha'] = pd.to_datetime(df_analysis.apply(lambda row: f\"{int(row['Año'])}-{int(row['Mes']):02d}-01\", axis=1))\n",
    "\n",
    "# Reorganizar las columnas para mejor comprensión\n",
    "df_analysis = df_analysis[['Tipo de Delito', 'Año', 'Mes', 'Fecha', 'Cantidad']]\n",
    "\n",
    "# Crear una columna de fecha para la serie temporal\n",
    "df_analysis['Fecha'] = pd.to_datetime(df_analysis.apply(lambda row: f\"{int(row['Año'])}-{int(row['Mes']):02d}-01\", axis=1))"
   ]
  },
  {
   "cell_type": "markdown",
   "id": "220fbbc7-0a17-4f70-bdb6-eee457aeaf1f",
   "metadata": {},
   "source": [
    "### Desarrollo de Modelos de Aprendizaje Automático"
   ]
  },
  {
   "cell_type": "code",
   "execution_count": 7,
   "id": "ba349886-ded5-4a39-9d0c-d911baecd173",
   "metadata": {},
   "outputs": [],
   "source": [
    "# Preparar los datos para el modelo\n",
    "features = df_analysis[['Año', 'Mes']]\n",
    "target = df_analysis['Cantidad']\n",
    "\n",
    "# Dividir los datos en conjunto de entrenamiento y prueba\n",
    "X_train, X_test, y_train, y_test = train_test_split(features, target, test_size=0.2, random_state=42)"
   ]
  },
  {
   "cell_type": "code",
   "execution_count": 8,
   "id": "3f2837c6-efa3-4eb2-aae1-61a28ae2509b",
   "metadata": {},
   "outputs": [
    {
     "name": "stdout",
     "output_type": "stream",
     "text": [
      "\n",
      "RandomForestRegressor:\n",
      "Mean Squared Error: 14327.931946505187\n",
      "Mean Absolute Error: 99.57744464089268\n",
      "R^2 Score: -0.3437580345613458\n"
     ]
    }
   ],
   "source": [
    "# Modelo 1: RandomForestRegressor\n",
    "model_rf = RandomForestRegressor(n_estimators=100, random_state=42)\n",
    "model_rf.fit(X_train, y_train)\n",
    "\n",
    "# Realizar predicciones con RandomForest\n",
    "y_pred_rf = model_rf.predict(X_test)\n",
    "\n",
    "# Evaluación del Modelo RandomForest\n",
    "mse_rf = mean_squared_error(y_test, y_pred_rf)\n",
    "r2_rf = r2_score(y_test, y_pred_rf)\n",
    "mae_rf = mean_absolute_error(y_test, y_pred_rf)\n",
    "print(\"\\nRandomForestRegressor:\")\n",
    "print(f\"Mean Squared Error: {mse_rf}\")\n",
    "print(f\"Mean Absolute Error: {mae_rf}\")\n",
    "print(f\"R^2 Score: {r2_rf}\")"
   ]
  },
  {
   "cell_type": "code",
   "execution_count": 9,
   "id": "f84cc3b9-08da-4cbe-b830-3ebfe1d6086c",
   "metadata": {},
   "outputs": [
    {
     "name": "stdout",
     "output_type": "stream",
     "text": [
      "\n",
      "Linear Regression:\n",
      "Mean Squared Error: 9627.611613850884\n",
      "Mean Absolute Error: 79.93892750715489\n",
      "R^2 Score: 0.09706575184398203\n"
     ]
    }
   ],
   "source": [
    "# Modelo 2: Linear Regression\n",
    "model_lr = LinearRegression()\n",
    "model_lr.fit(X_train, y_train)\n",
    "\n",
    "# Realizar predicciones con Linear Regression\n",
    "y_pred_lr = model_lr.predict(X_test)\n",
    "\n",
    "# Evaluación del Modelo Linear Regression\n",
    "mse_lr = mean_squared_error(y_test, y_pred_lr)\n",
    "r2_lr = r2_score(y_test, y_pred_lr)\n",
    "mae_lr = mean_absolute_error(y_test, y_pred_lr)\n",
    "print(\"\\nLinear Regression:\")\n",
    "print(f\"Mean Squared Error: {mse_lr}\")\n",
    "print(f\"Mean Absolute Error: {mae_lr}\")\n",
    "print(f\"R^2 Score: {r2_lr}\")"
   ]
  },
  {
   "cell_type": "code",
   "execution_count": 10,
   "id": "de1e6f53-c3ff-4f6a-bec7-b9b80eb1c6e0",
   "metadata": {},
   "outputs": [
    {
     "name": "stdout",
     "output_type": "stream",
     "text": [
      "\n",
      "Support Vector Regressor (SVR):\n",
      "Mean Squared Error: 11185.600307499079\n",
      "Mean Absolute Error: 84.09196259463818\n",
      "R^2 Score: -0.04905162452701273\n"
     ]
    }
   ],
   "source": [
    "# Modelo 3: Support Vector Regressor (SVR)\n",
    "model_svr = SVR(kernel='rbf')\n",
    "model_svr.fit(X_train, y_train)\n",
    "\n",
    "# Realizar predicciones con SVR\n",
    "y_pred_svr = model_svr.predict(X_test)\n",
    "\n",
    "# Evaluación del Modelo SVR\n",
    "mse_svr = mean_squared_error(y_test, y_pred_svr)\n",
    "r2_svr = r2_score(y_test, y_pred_svr)\n",
    "mae_svr = mean_absolute_error(y_test, y_pred_svr)\n",
    "print(\"\\nSupport Vector Regressor (SVR):\")\n",
    "print(f\"Mean Squared Error: {mse_svr}\")\n",
    "print(f\"Mean Absolute Error: {mae_svr}\")\n",
    "print(f\"R^2 Score: {r2_svr}\")"
   ]
  },
  {
   "cell_type": "code",
   "execution_count": 11,
   "id": "7c00ba51-7ca1-466f-a735-0103404f097d",
   "metadata": {},
   "outputs": [
    {
     "name": "stdout",
     "output_type": "stream",
     "text": [
      "\n",
      "Comparación de Modelos:\n",
      "RandomForestRegressor - MSE: 14327.931946505187, MAE: 99.57744464089268, R^2: -0.3437580345613458\n",
      "Linear Regression - MSE: 9627.611613850884, MAE: 79.93892750715489, R^2: 0.09706575184398203\n",
      "SVR - MSE: 11185.600307499079, MAE: 84.09196259463818, R^2: -0.04905162452701273\n"
     ]
    }
   ],
   "source": [
    "# Evaluación y Comparación de Modelos\n",
    "print(\"\\nComparación de Modelos:\")\n",
    "print(f\"RandomForestRegressor - MSE: {mse_rf}, MAE: {mae_rf}, R^2: {r2_rf}\")\n",
    "print(f\"Linear Regression - MSE: {mse_lr}, MAE: {mae_lr}, R^2: {r2_lr}\")\n",
    "print(f\"SVR - MSE: {mse_svr}, MAE: {mae_svr}, R^2: {r2_svr}\")"
   ]
  },
  {
   "cell_type": "markdown",
   "id": "bdfacad9-3e5f-4d84-86dc-d81ec66c065b",
   "metadata": {},
   "source": [
    "### Interpretación de los resultados"
   ]
  },
  {
   "cell_type": "code",
   "execution_count": 13,
   "id": "6f1a4896-dc27-432e-8207-6ed05eb87728",
   "metadata": {},
   "outputs": [
    {
     "name": "stdout",
     "output_type": "stream",
     "text": [
      "\n",
      "Conclusiones:\n",
      "Se entrenaron tres modelos diferentes para predecir la cantidad de delitos según el año y el mes: RandomForestRegressor, Linear Regression, y SVR.\n",
      "La precisión de cada modelo se representó usando el R^2 Score, el Mean Squared Error (MSE), y el Mean Absolute Error (MAE).\n",
      "En base a los resultados obtenidos:\n",
      "- Linear Regression tiene el mejor R^2 Score positivo (0.097), indicando que tiene una ligera capacidad de explicar la variabilidad de los datos.\n",
      "- RandomForest tiene el peor R^2 Score negativo (-0.344), indicando que no logra capturar adecuadamente la relación entre las variables.\n",
      "- SVR también tiene un R^2 negativo (-0.049), aunque es mejor que RandomForest pero peor que Linear Regression.\n"
     ]
    }
   ],
   "source": [
    "# Proporcionar conclusiones finales sobre cómo cada modelo abordó el problema formulado\n",
    "print(\"\\nConclusiones:\")\n",
    "print(\"Se entrenaron tres modelos diferentes para predecir la cantidad de delitos según el año y el mes: RandomForestRegressor, Linear Regression, y SVR.\")\n",
    "print(\"La precisión de cada modelo se representó usando el R^2 Score, el Mean Squared Error (MSE), y el Mean Absolute Error (MAE).\")\n",
    "print(\"En base a los resultados obtenidos:\")\n",
    "print(\"- Linear Regression tiene el mejor R^2 Score positivo (0.097), indicando que tiene una ligera capacidad de explicar la variabilidad de los datos.\")\n",
    "print(\"- RandomForest tiene el peor R^2 Score negativo (-0.344), indicando que no logra capturar adecuadamente la relación entre las variables.\")\n",
    "print(\"- SVR también tiene un R^2 negativo (-0.049), aunque es mejor que RandomForest pero peor que Linear Regression.\")"
   ]
  },
  {
   "cell_type": "code",
   "execution_count": 14,
   "id": "dd3fe187-8431-4dd3-80fb-c9532e7ef57d",
   "metadata": {},
   "outputs": [
    {
     "data": {
      "image/png": "[encoded data removed]",
      "text/plain": [
       "<Figure size 1500x500 with 3 Axes>"
      ]
     },
     "metadata": {},
     "output_type": "display_data"
    }
   ],
   "source": [
    "# Visualización de resultados\n",
    "model_names = ['RandomForest', 'Linear Regression', 'SVR']\n",
    "mse_values = [mse_rf, mse_lr, mse_svr]\n",
    "mae_values = [mae_rf, mae_lr, mae_svr]\n",
    "r2_values = [r2_rf, r2_lr, r2_svr]\n",
    "\n",
    "plt.figure(figsize=(15, 5))\n",
    "\n",
    "# Gráfico de MSE\n",
    "plt.subplot(1, 3, 1)\n",
    "plt.bar(model_names, mse_values, color=['blue', 'green', 'red'])\n",
    "plt.title('Mean Squared Error (MSE) por Modelo')\n",
    "plt.ylabel('MSE')\n",
    "\n",
    "# Gráfico de MAE\n",
    "plt.subplot(1, 3, 2)\n",
    "plt.bar(model_names, mae_values, color=['blue', 'green', 'red'])\n",
    "plt.title('Mean Absolute Error (MAE) por Modelo')\n",
    "plt.ylabel('MAE')\n",
    "\n",
    "# Gráfico de R^2 Score\n",
    "plt.subplot(1, 3, 3)\n",
    "plt.bar(model_names, r2_values, color=['blue', 'green', 'red'])\n",
    "plt.title('R^2 Score por Modelo')\n",
    "plt.ylabel('R^2 Score')\n",
    "\n",
    "plt.tight_layout()\n",
    "plt.show()"
   ]
  },
  {
   "cell_type": "code",
   "execution_count": null,
   "id": "b2c0ff61-c1ac-49f9-9873-e631114a0bc2",
   "metadata": {},
   "outputs": [],
   "source": []
  }
 ],
 "metadata": {
  "kernelspec": {
   "display_name": "Python 3 (ipykernel)",
   "language": "python",
   "name": "python3"
  },
  "language_info": {
   "codemirror_mode": {
    "name": "ipython",
    "version": 3
   },
   "file_extension": ".py",
   "mimetype": "text/x-python",
   "name": "python",
   "nbconvert_exporter": "python",
   "pygments_lexer": "ipython3",
   "version": "3.12.4"
  }
 },
 "nbformat": 4,
 "nbformat_minor": 5
}
